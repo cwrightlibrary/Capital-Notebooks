{
 "cells": [
  {
   "cell_type": "markdown",
   "id": "dd8abb49",
   "metadata": {},
   "source": [
    "# $\\textbf{Capital}$\n",
    "\n",
    "#### $\\textit{A Critique of Political Economy}$\n",
    "\n",
    "### $\\text{Volume I}$<br>$\\text{Book One: The Process of Production of Capital}$"
   ]
  },
  {
   "cell_type": "markdown",
   "id": "b22a1d51",
   "metadata": {},
   "source": [
    "## Part 1: Commodities and Money\n",
    "\n",
    "### Chapter 1: Commodities\n",
    "\n",
    "#### **Section 1:** The Two Factors of a Commodity: Use-Value and Value (The Substance of Value and the Magnitude of Value)\n",
    "\n"
   ]
  }
 ],
 "metadata": {
  "language_info": {
   "name": "python"
  }
 },
 "nbformat": 4,
 "nbformat_minor": 5
}
